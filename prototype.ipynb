{
 "cells": [
  {
   "cell_type": "code",
   "execution_count": 32,
   "metadata": {},
   "outputs": [],
   "source": [
    "from subprocess import PIPE, Popen\n",
    "from pathlib import Path\n",
    "\n",
    "import numpy as np\n",
    "import matplotlib.pyplot as plt\n",
    "import matplotlib.animation as anim\n",
    "\n",
    "from tqdm.notebook import tqdm\n",
    "from IPython.display import Image, Video"
   ]
  },
  {
   "cell_type": "markdown",
   "metadata": {},
   "source": [
    "# Features TODO\n",
    "* Extension aware (.mp4, .gif, .apng?, etc.)\n",
    "* Save frames to temporary directory\n",
    "* kwarg: keep_frames bool\n",
    "* kwarg: output directory (for both frames and video)\n",
    "* Possible to turn a bunch of frames into a matplotlib slideshow?\n",
    "* Output writers besides ffmpeg?"
    "* Proper support for Jupyter notebooks"
   ]
  },
  {
   "cell_type": "code",
   "execution_count": 37,
   "metadata": {},
   "outputs": [],
   "source": [
    "class Loom:\n",
    "    def __init__(self, output_filename, fps=20):\n",
    "        self.output_filename = Path(output_filename)\n",
    "        self.fps = fps\n",
    "        self.frame_filenames = []\n",
    "        self.directory = Path(\".\")\n",
    "        self.frame_counter = 0\n",
    "        self.directory.mkdir(parents=True, exist_ok=True)\n",
    "    \n",
    "    def __enter__(self):\n",
    "        return self\n",
    "    \n",
    "    def save_frame(self, fig):\n",
    "        frame_filename = self.directory / f\"frame_{self.frame_counter:06d}.png\"\n",
    "        fig.savefig(frame_filename)\n",
    "        plt.close(fig)\n",
    "        self.frame_filenames.append(frame_filename)\n",
    "        self.frame_counter += 1\n",
    "\n",
    "    def show(self):\n",
    "        return Video(str(self.output_filename))\n",
    "    \n",
    "    def __exit__(self, exc_type, exc_value, traceback):\n",
    "        command = [\n",
    "            \"ffmpeg\",\n",
    "            \"-y\",\n",
    "            \"-framerate\", str(self.fps),\n",
    "            \"-i\", str(self.directory / \"frame_%06d.png\"),\n",
    "            \"-c:v\", \"libx264\", \n",
    "            \"-pix_fmt\", \"yuv420p\",\n",
    "            str(self.output_filename)\n",
    "        ]\n",
    "        \n",
    "        process = Popen(command, stdin=PIPE, stdout=PIPE, stderr=PIPE)\n",
    "        stdout, stderr = process.communicate()\n",
    "\n",
    "        # print(\" \".join(command))\n",
    "        # print(stdout.decode())\n",
    "        # print(stderr.decode())\n",
    "        \n",
    "        for frame_filename in self.frame_filenames:\n",
    "            frame_filename.unlink()\n",
    "\n",
    "        return False  # Indicate that exceptions should be propagated, if there were any"
   ]
  },
  {
   "cell_type": "code",
   "execution_count": 38,
   "metadata": {},
   "outputs": [
    {
     "data": {
      "application/vnd.jupyter.widget-view+json": {
       "model_id": "2c40c787e9f246bdb693d77b9a573a16",
       "version_major": 2,
       "version_minor": 0
      },
      "text/plain": [
       "  0%|          | 0/10 [00:00<?, ?it/s]"
      ]
     },
     "metadata": {},
     "output_type": "display_data"
    },
    {
     "data": {
      "text/html": [
       "<video src=\"sine_wave_animation.mp4\" controls  >\n",
       "      Your browser does not support the <code>video</code> element.\n",
       "    </video>"
      ],
      "text/plain": [
       "<IPython.core.display.Video object>"
      ]
     },
     "execution_count": 38,
     "metadata": {},
     "output_type": "execute_result"
    }
   ],
   "source": [
    "with Loom(\"sine_wave_animation.mp4\", fps=20) as loom:\n",
    "    for phase in tqdm(np.linspace(0, 2*np.pi, 10)):\n",
    "        fig, ax = plt.subplots()\n",
    "        x = np.linspace(0, 2*np.pi, 200)\n",
    "        y = np.sin(x + phase)\n",
    "        \n",
    "        ax.plot(x, y)\n",
    "        \n",
    "        loom.save_frame(fig)\n",
    "\n",
    "loom.show()"
   ]
  },
  {
   "cell_type": "code",
   "execution_count": 39,
   "metadata": {},
   "outputs": [
    {
     "data": {
      "application/vnd.jupyter.widget-view+json": {
       "model_id": "2400ade3ab2f4385ad7a7600b649e668",
       "version_major": 2,
       "version_minor": 0
      },
      "text/plain": [
       "  0%|          | 0/37 [00:00<?, ?it/s]"
      ]
     },
     "metadata": {},
     "output_type": "display_data"
    },
    {
     "data": {
      "text/html": [
       "<video src=\"3d_rotate.mp4\" controls  >\n",
       "      Your browser does not support the <code>video</code> element.\n",
       "    </video>"
      ],
      "text/plain": [
       "<IPython.core.display.Video object>"
      ]
     },
     "execution_count": 39,
     "metadata": {},
     "output_type": "execute_result"
    }
   ],
   "source": [
    "with Loom(\"3d_rotate.mp4\", fps=10) as loom:\n",
    "    for i in tqdm(range(37)):\n",
    "        fig, ax = plt.subplots(figsize=(12, 8), subplot_kw={\"projection\": \"3d\"})\n",
    "        \n",
    "        X = np.arange(-5, 5, 0.25)\n",
    "        Y = np.arange(-5, 5, 0.25)\n",
    "        X, Y = np.meshgrid(X, Y)\n",
    "        R = np.sqrt(X**2 + Y**2)\n",
    "        Z = np.sin(R)\n",
    "        \n",
    "        surf = ax.plot_surface(X, Y, Z, cmap=\"coolwarm\")\n",
    "        \n",
    "        ax.set_zlim(-1.01, 1.01)\n",
    "        fig.colorbar(surf, shrink=0.5, aspect=5)\n",
    "        \n",
    "        ax.view_init(azim=i*10)\n",
    "\n",
    "        loom.save_frame(fig)\n",
    "\n",
    "loom.show()"
   ]
  },
  {
   "cell_type": "code",
   "execution_count": null,
   "metadata": {},
   "outputs": [],
   "source": []
  }
 ],
 "metadata": {
  "kernelspec": {
   "display_name": "Python 3 (ipykernel)",
   "language": "python",
   "name": "python3"
  },
  "language_info": {
   "codemirror_mode": {
    "name": "ipython",
    "version": 3
   },
   "file_extension": ".py",
   "mimetype": "text/x-python",
   "name": "python",
   "nbconvert_exporter": "python",
   "pygments_lexer": "ipython3",
   "version": "3.12.0"
  }
 },
 "nbformat": 4,
 "nbformat_minor": 4
}
